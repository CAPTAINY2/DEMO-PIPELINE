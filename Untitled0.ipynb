{
  "nbformat": 4,
  "nbformat_minor": 0,
  "metadata": {
    "colab": {
      "provenance": [],
      "authorship_tag": "ABX9TyMnh5g3Tw0xaskO02eX6kba",
      "include_colab_link": true
    },
    "kernelspec": {
      "name": "python3",
      "display_name": "Python 3"
    },
    "language_info": {
      "name": "python"
    }
  },
  "cells": [
    {
      "cell_type": "markdown",
      "metadata": {
        "id": "view-in-github",
        "colab_type": "text"
      },
      "source": [
        "<a href=\"https://colab.research.google.com/github/CAPTAINY2/DEMO-PIPELINE/blob/main/Untitled0.ipynb\" target=\"_parent\"><img src=\"https://colab.research.google.com/assets/colab-badge.svg\" alt=\"Open In Colab\"/></a>"
      ]
    },
    {
      "cell_type": "code",
      "execution_count": 1,
      "metadata": {
        "colab": {
          "base_uri": "https://localhost:8080/"
        },
        "id": "b8hfIa8A4jHw",
        "outputId": "a18ec79d-3920-4542-956d-3627c7ef3067"
      },
      "outputs": [
        {
          "output_type": "stream",
          "name": "stdout",
          "text": [
            "Output 1: [1, 3, 12, 0, 0]\n",
            "Output 2: [0]\n"
          ]
        }
      ],
      "source": [
        "def MoveZeroes(nums):\n",
        "        current = 0\n",
        "        swap = 0\n",
        "        while current < len(nums):\n",
        "            if nums[current] != 0:\n",
        "                nums[current], nums[swap] = nums[swap], nums[current]\n",
        "                swap += 1\n",
        "            current += 1\n",
        "\n",
        "        return nums\n",
        "\n",
        "nums = [0, 1, 0, 3, 12]\n",
        "print(f\"Output 1: {MoveZeroes(nums)}\")\n",
        "\n",
        "\n",
        "nums = [0]\n",
        "print(f\"Output 2: {MoveZeroes(nums)}\")\n"
      ]
    },
    {
      "cell_type": "code",
      "source": [],
      "metadata": {
        "id": "n0yDKmGy4lZD"
      },
      "execution_count": null,
      "outputs": []
    }
  ]
}