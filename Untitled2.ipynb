{
  "nbformat": 4,
  "nbformat_minor": 0,
  "metadata": {
    "colab": {
      "provenance": [],
      "authorship_tag": "ABX9TyNF++M0LLmpmzYMEtt6of2v",
      "include_colab_link": true
    },
    "kernelspec": {
      "name": "python3",
      "display_name": "Python 3"
    },
    "language_info": {
      "name": "python"
    }
  },
  "cells": [
    {
      "cell_type": "markdown",
      "metadata": {
        "id": "view-in-github",
        "colab_type": "text"
      },
      "source": [
        "<a href=\"https://colab.research.google.com/github/CAPTAINY2/DEMO-PIPELINE/blob/main/Untitled2.ipynb\" target=\"_parent\"><img src=\"https://colab.research.google.com/assets/colab-badge.svg\" alt=\"Open In Colab\"/></a>"
      ]
    },
    {
      "cell_type": "code",
      "execution_count": 1,
      "metadata": {
        "colab": {
          "base_uri": "https://localhost:8080/"
        },
        "id": "mmNFp-j06vQX",
        "outputId": "e6d37a93-5a09-4f11-c78d-de9df764c766"
      },
      "outputs": [
        {
          "output_type": "stream",
          "name": "stdout",
          "text": [
            "Output 1: 0\n",
            "Output 2: 2\n",
            "Output 3: -1\n"
          ]
        }
      ],
      "source": [
        "def FirstUC(s):\n",
        "    character_freq = {}\n",
        "    for character in s:\n",
        "        character_freq[character] = character_freq.get(character, 0) + 1\n",
        "    for i in range(len(s)):\n",
        "        if character_freq[s[i]] == 1:\n",
        "            return i\n",
        "\n",
        "    return -1\n",
        "\n",
        "s = \"leetcode\"\n",
        "print(f\"Output 1: {FirstUC(s)}\") \n",
        "\n",
        "s = \"loveleetcode\"\n",
        "print(f\"Output 2: {FirstUC(s)}\")\n",
        "\n",
        "s = \"aabb\"\n",
        "print(f\"Output 3: {FirstUC(s)}\") \n",
        "\n"
      ]
    },
    {
      "cell_type": "code",
      "source": [],
      "metadata": {
        "id": "d9kgZXb760yI"
      },
      "execution_count": null,
      "outputs": []
    }
  ]
}